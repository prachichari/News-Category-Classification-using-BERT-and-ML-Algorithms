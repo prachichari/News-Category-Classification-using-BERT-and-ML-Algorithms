{
  "nbformat": 4,
  "nbformat_minor": 0,
  "metadata": {
    "kernelspec": {
      "display_name": "Python 3",
      "language": "python",
      "name": "python3"
    },
    "language_info": {
      "codemirror_mode": {
        "name": "ipython",
        "version": 3
      },
      "file_extension": ".py",
      "mimetype": "text/x-python",
      "name": "python",
      "nbconvert_exporter": "python",
      "pygments_lexer": "ipython3",
      "version": "3.7.6"
    },
    "colab": {
      "name": "EDA.ipynb",
      "provenance": [],
      "collapsed_sections": []
    }
  },
  "cells": [
    {
      "cell_type": "markdown",
      "metadata": {
        "id": "l3TczF6LZQ2A"
      },
      "source": [
        "In this section we will perform exploratory data analyis for our dataset that comprises of about 200,000 news headlines from HuffPost from 2012 to 2018."
      ]
    },
    {
      "cell_type": "markdown",
      "metadata": {
        "id": "GDzJq4LmZg7m"
      },
      "source": [
        "To begin, we first need to import all the necessary libraries to work and import our dataset."
      ]
    },
    {
      "cell_type": "code",
      "metadata": {
        "id": "9-gM0JznZN9t",
        "outputId": "fcf42af4-9166-4851-b997-28937e4797c5"
      },
      "source": [
        "import numpy as np # linear algebra\n",
        "import pandas as pd # data processing, CSV file I/O (e.g. pd.read_csv)\n",
        "import matplotlib.pyplot as plt\n",
        "import nltk\n",
        "from nltk.corpus import stopwords\n",
        "nltk.download('stopwords')\n",
        "stopw = stopwords.words('english')"
      ],
      "execution_count": null,
      "outputs": [
        {
          "output_type": "stream",
          "text": [
            "[nltk_data] Downloading package stopwords to\n",
            "[nltk_data]     C:\\Users\\PRACHI\\AppData\\Roaming\\nltk_data...\n",
            "[nltk_data]   Package stopwords is already up-to-date!\n"
          ],
          "name": "stderr"
        }
      ]
    },
    {
      "cell_type": "code",
      "metadata": {
        "id": "7lVBP4BVZN97",
        "outputId": "12f33216-d284-4c6b-ff41-66512d41de66"
      },
      "source": [
        "# Importing the dataset\n",
        "df = pd.read_json('F:\\\\New folder\\\\New folder desktop\\\\News_Category_Dataset_v2.json', lines='True') #Reading the file as a json object per line.\n",
        "df.columns #Index(['authors', 'category', 'date', 'headline', 'link', 'short_description'], dtype='object')\n",
        "df.shape  #(124989, 6)"
      ],
      "execution_count": null,
      "outputs": [
        {
          "output_type": "execute_result",
          "data": {
            "text/plain": [
              "(200853, 6)"
            ]
          },
          "metadata": {
            "tags": []
          },
          "execution_count": 2
        }
      ]
    },
    {
      "cell_type": "code",
      "metadata": {
        "id": "iXBfhI0-ZN9-",
        "outputId": "6383df5d-e091-4770-aa36-ac8d8cd614e8"
      },
      "source": [
        "df # a glimpse of our dataset."
      ],
      "execution_count": null,
      "outputs": [
        {
          "output_type": "execute_result",
          "data": {
            "text/html": [
              "<div>\n",
              "<style scoped>\n",
              "    .dataframe tbody tr th:only-of-type {\n",
              "        vertical-align: middle;\n",
              "    }\n",
              "\n",
              "    .dataframe tbody tr th {\n",
              "        vertical-align: top;\n",
              "    }\n",
              "\n",
              "    .dataframe thead th {\n",
              "        text-align: right;\n",
              "    }\n",
              "</style>\n",
              "<table border=\"1\" class=\"dataframe\">\n",
              "  <thead>\n",
              "    <tr style=\"text-align: right;\">\n",
              "      <th></th>\n",
              "      <th>category</th>\n",
              "      <th>headline</th>\n",
              "      <th>authors</th>\n",
              "      <th>link</th>\n",
              "      <th>short_description</th>\n",
              "      <th>date</th>\n",
              "    </tr>\n",
              "  </thead>\n",
              "  <tbody>\n",
              "    <tr>\n",
              "      <th>0</th>\n",
              "      <td>CRIME</td>\n",
              "      <td>There Were 2 Mass Shootings In Texas Last Week...</td>\n",
              "      <td>Melissa Jeltsen</td>\n",
              "      <td>https://www.huffingtonpost.com/entry/texas-ama...</td>\n",
              "      <td>She left her husband. He killed their children...</td>\n",
              "      <td>2018-05-26</td>\n",
              "    </tr>\n",
              "    <tr>\n",
              "      <th>1</th>\n",
              "      <td>ENTERTAINMENT</td>\n",
              "      <td>Will Smith Joins Diplo And Nicky Jam For The 2...</td>\n",
              "      <td>Andy McDonald</td>\n",
              "      <td>https://www.huffingtonpost.com/entry/will-smit...</td>\n",
              "      <td>Of course it has a song.</td>\n",
              "      <td>2018-05-26</td>\n",
              "    </tr>\n",
              "    <tr>\n",
              "      <th>2</th>\n",
              "      <td>ENTERTAINMENT</td>\n",
              "      <td>Hugh Grant Marries For The First Time At Age 57</td>\n",
              "      <td>Ron Dicker</td>\n",
              "      <td>https://www.huffingtonpost.com/entry/hugh-gran...</td>\n",
              "      <td>The actor and his longtime girlfriend Anna Ebe...</td>\n",
              "      <td>2018-05-26</td>\n",
              "    </tr>\n",
              "    <tr>\n",
              "      <th>3</th>\n",
              "      <td>ENTERTAINMENT</td>\n",
              "      <td>Jim Carrey Blasts 'Castrato' Adam Schiff And D...</td>\n",
              "      <td>Ron Dicker</td>\n",
              "      <td>https://www.huffingtonpost.com/entry/jim-carre...</td>\n",
              "      <td>The actor gives Dems an ass-kicking for not fi...</td>\n",
              "      <td>2018-05-26</td>\n",
              "    </tr>\n",
              "    <tr>\n",
              "      <th>4</th>\n",
              "      <td>ENTERTAINMENT</td>\n",
              "      <td>Julianna Margulies Uses Donald Trump Poop Bags...</td>\n",
              "      <td>Ron Dicker</td>\n",
              "      <td>https://www.huffingtonpost.com/entry/julianna-...</td>\n",
              "      <td>The \"Dietland\" actress said using the bags is ...</td>\n",
              "      <td>2018-05-26</td>\n",
              "    </tr>\n",
              "    <tr>\n",
              "      <th>...</th>\n",
              "      <td>...</td>\n",
              "      <td>...</td>\n",
              "      <td>...</td>\n",
              "      <td>...</td>\n",
              "      <td>...</td>\n",
              "      <td>...</td>\n",
              "    </tr>\n",
              "    <tr>\n",
              "      <th>200848</th>\n",
              "      <td>TECH</td>\n",
              "      <td>RIM CEO Thorsten Heins' 'Significant' Plans Fo...</td>\n",
              "      <td>Reuters, Reuters</td>\n",
              "      <td>https://www.huffingtonpost.com/entry/rim-ceo-t...</td>\n",
              "      <td>Verizon Wireless and AT&amp;T are already promotin...</td>\n",
              "      <td>2012-01-28</td>\n",
              "    </tr>\n",
              "    <tr>\n",
              "      <th>200849</th>\n",
              "      <td>SPORTS</td>\n",
              "      <td>Maria Sharapova Stunned By Victoria Azarenka I...</td>\n",
              "      <td></td>\n",
              "      <td>https://www.huffingtonpost.com/entry/maria-sha...</td>\n",
              "      <td>Afterward, Azarenka, more effusive with the pr...</td>\n",
              "      <td>2012-01-28</td>\n",
              "    </tr>\n",
              "    <tr>\n",
              "      <th>200850</th>\n",
              "      <td>SPORTS</td>\n",
              "      <td>Giants Over Patriots, Jets Over Colts Among  M...</td>\n",
              "      <td></td>\n",
              "      <td>https://www.huffingtonpost.com/entry/super-bow...</td>\n",
              "      <td>Leading up to Super Bowl XLVI, the most talked...</td>\n",
              "      <td>2012-01-28</td>\n",
              "    </tr>\n",
              "    <tr>\n",
              "      <th>200851</th>\n",
              "      <td>SPORTS</td>\n",
              "      <td>Aldon Smith Arrested: 49ers Linebacker Busted ...</td>\n",
              "      <td></td>\n",
              "      <td>https://www.huffingtonpost.com/entry/aldon-smi...</td>\n",
              "      <td>CORRECTION: An earlier version of this story i...</td>\n",
              "      <td>2012-01-28</td>\n",
              "    </tr>\n",
              "    <tr>\n",
              "      <th>200852</th>\n",
              "      <td>SPORTS</td>\n",
              "      <td>Dwight Howard Rips Teammates After Magic Loss ...</td>\n",
              "      <td></td>\n",
              "      <td>https://www.huffingtonpost.com/entry/dwight-ho...</td>\n",
              "      <td>The five-time all-star center tore into his te...</td>\n",
              "      <td>2012-01-28</td>\n",
              "    </tr>\n",
              "  </tbody>\n",
              "</table>\n",
              "<p>200853 rows × 6 columns</p>\n",
              "</div>"
            ],
            "text/plain": [
              "             category                                           headline  \\\n",
              "0               CRIME  There Were 2 Mass Shootings In Texas Last Week...   \n",
              "1       ENTERTAINMENT  Will Smith Joins Diplo And Nicky Jam For The 2...   \n",
              "2       ENTERTAINMENT    Hugh Grant Marries For The First Time At Age 57   \n",
              "3       ENTERTAINMENT  Jim Carrey Blasts 'Castrato' Adam Schiff And D...   \n",
              "4       ENTERTAINMENT  Julianna Margulies Uses Donald Trump Poop Bags...   \n",
              "...               ...                                                ...   \n",
              "200848           TECH  RIM CEO Thorsten Heins' 'Significant' Plans Fo...   \n",
              "200849         SPORTS  Maria Sharapova Stunned By Victoria Azarenka I...   \n",
              "200850         SPORTS  Giants Over Patriots, Jets Over Colts Among  M...   \n",
              "200851         SPORTS  Aldon Smith Arrested: 49ers Linebacker Busted ...   \n",
              "200852         SPORTS  Dwight Howard Rips Teammates After Magic Loss ...   \n",
              "\n",
              "                 authors                                               link  \\\n",
              "0        Melissa Jeltsen  https://www.huffingtonpost.com/entry/texas-ama...   \n",
              "1          Andy McDonald  https://www.huffingtonpost.com/entry/will-smit...   \n",
              "2             Ron Dicker  https://www.huffingtonpost.com/entry/hugh-gran...   \n",
              "3             Ron Dicker  https://www.huffingtonpost.com/entry/jim-carre...   \n",
              "4             Ron Dicker  https://www.huffingtonpost.com/entry/julianna-...   \n",
              "...                  ...                                                ...   \n",
              "200848  Reuters, Reuters  https://www.huffingtonpost.com/entry/rim-ceo-t...   \n",
              "200849                    https://www.huffingtonpost.com/entry/maria-sha...   \n",
              "200850                    https://www.huffingtonpost.com/entry/super-bow...   \n",
              "200851                    https://www.huffingtonpost.com/entry/aldon-smi...   \n",
              "200852                    https://www.huffingtonpost.com/entry/dwight-ho...   \n",
              "\n",
              "                                        short_description       date  \n",
              "0       She left her husband. He killed their children... 2018-05-26  \n",
              "1                                Of course it has a song. 2018-05-26  \n",
              "2       The actor and his longtime girlfriend Anna Ebe... 2018-05-26  \n",
              "3       The actor gives Dems an ass-kicking for not fi... 2018-05-26  \n",
              "4       The \"Dietland\" actress said using the bags is ... 2018-05-26  \n",
              "...                                                   ...        ...  \n",
              "200848  Verizon Wireless and AT&T are already promotin... 2012-01-28  \n",
              "200849  Afterward, Azarenka, more effusive with the pr... 2012-01-28  \n",
              "200850  Leading up to Super Bowl XLVI, the most talked... 2012-01-28  \n",
              "200851  CORRECTION: An earlier version of this story i... 2012-01-28  \n",
              "200852  The five-time all-star center tore into his te... 2012-01-28  \n",
              "\n",
              "[200853 rows x 6 columns]"
            ]
          },
          "metadata": {
            "tags": []
          },
          "execution_count": 9
        }
      ]
    },
    {
      "cell_type": "code",
      "metadata": {
        "id": "dOl2vn20ZN-B",
        "outputId": "b89133b9-f70a-4343-c6db-95b0c7552224"
      },
      "source": [
        "# let us see how many category types we have in our dataset.\n",
        "df.category.nunique()"
      ],
      "execution_count": null,
      "outputs": [
        {
          "output_type": "execute_result",
          "data": {
            "text/plain": [
              "41"
            ]
          },
          "metadata": {
            "tags": []
          },
          "execution_count": 3
        }
      ]
    },
    {
      "cell_type": "code",
      "metadata": {
        "id": "sekIe_sxZN-D",
        "outputId": "473e30e3-b1ed-4b8f-a9c3-1f4138528986"
      },
      "source": [
        "df.category.unique() # there are 41 different types of category present and their names mentioned below.\n"
      ],
      "execution_count": null,
      "outputs": [
        {
          "output_type": "execute_result",
          "data": {
            "text/plain": [
              "array(['CRIME', 'ENTERTAINMENT', 'WORLD NEWS', 'IMPACT', 'POLITICS',\n",
              "       'WEIRD NEWS', 'BLACK VOICES', 'WOMEN', 'COMEDY', 'QUEER VOICES',\n",
              "       'SPORTS', 'BUSINESS', 'TRAVEL', 'MEDIA', 'TECH', 'RELIGION',\n",
              "       'SCIENCE', 'LATINO VOICES', 'EDUCATION', 'COLLEGE', 'PARENTS',\n",
              "       'ARTS & CULTURE', 'STYLE', 'GREEN', 'TASTE', 'HEALTHY LIVING',\n",
              "       'THE WORLDPOST', 'GOOD NEWS', 'WORLDPOST', 'FIFTY', 'ARTS',\n",
              "       'WELLNESS', 'PARENTING', 'HOME & LIVING', 'STYLE & BEAUTY',\n",
              "       'DIVORCE', 'WEDDINGS', 'FOOD & DRINK', 'MONEY', 'ENVIRONMENT',\n",
              "       'CULTURE & ARTS'], dtype=object)"
            ]
          },
          "metadata": {
            "tags": []
          },
          "execution_count": 5
        }
      ]
    },
    {
      "cell_type": "markdown",
      "metadata": {
        "id": "aH9gMPW2acju"
      },
      "source": [
        "To analyse the share of each category in the dataset we get their value counts to check whether the data is bias or not to work with."
      ]
    },
    {
      "cell_type": "code",
      "metadata": {
        "id": "Cyv4sUKIZN-F",
        "outputId": "32ce6730-6fd0-41e3-b186-2570e351692e"
      },
      "source": [
        "print(\"We have a total of {} categories\".format(dataset['category'].nunique()))\n",
        "dataset['category'].value_counts()"
      ],
      "execution_count": null,
      "outputs": [
        {
          "output_type": "stream",
          "text": [
            "We have a total of 41 categories\n"
          ],
          "name": "stdout"
        },
        {
          "output_type": "execute_result",
          "data": {
            "text/plain": [
              "POLITICS          32739\n",
              "WELLNESS          17827\n",
              "ENTERTAINMENT     16058\n",
              "TRAVEL             9887\n",
              "STYLE & BEAUTY     9649\n",
              "PARENTING          8677\n",
              "HEALTHY LIVING     6694\n",
              "QUEER VOICES       6314\n",
              "FOOD & DRINK       6226\n",
              "BUSINESS           5937\n",
              "COMEDY             5175\n",
              "SPORTS             4884\n",
              "BLACK VOICES       4528\n",
              "HOME & LIVING      4195\n",
              "PARENTS            3955\n",
              "THE WORLDPOST      3664\n",
              "WEDDINGS           3651\n",
              "WOMEN              3490\n",
              "IMPACT             3459\n",
              "DIVORCE            3426\n",
              "CRIME              3405\n",
              "MEDIA              2815\n",
              "WEIRD NEWS         2670\n",
              "GREEN              2622\n",
              "WORLDPOST          2579\n",
              "RELIGION           2556\n",
              "STYLE              2254\n",
              "SCIENCE            2178\n",
              "WORLD NEWS         2177\n",
              "TASTE              2096\n",
              "TECH               2082\n",
              "MONEY              1707\n",
              "ARTS               1509\n",
              "FIFTY              1401\n",
              "GOOD NEWS          1398\n",
              "ARTS & CULTURE     1339\n",
              "ENVIRONMENT        1323\n",
              "COLLEGE            1144\n",
              "LATINO VOICES      1129\n",
              "CULTURE & ARTS     1030\n",
              "EDUCATION          1004\n",
              "Name: category, dtype: int64"
            ]
          },
          "metadata": {
            "tags": []
          },
          "execution_count": 56
        }
      ]
    },
    {
      "cell_type": "markdown",
      "metadata": {
        "id": "3LDs27QqapHl"
      },
      "source": [
        "As we can see in our dataset there are many news categories which are very close to each other in meaning. For example, we have \"Arts and Culture\" and \"Arts\" as two separate categories which is not required as they both contain the same type of context. Another example are the categories \"College\" and \"Education\". So the first step is to reduce the number of categories by combining the ones very close to each other under one single roof for which we are using a groupper method which will receive the categories to group and the new name for the combined category as input."
      ]
    },
    {
      "cell_type": "code",
      "metadata": {
        "id": "sbxmGPn3ZN-G"
      },
      "source": [
        "# from https://www.kaggle.com/derinrobert/newsclassification-using-lstm\n",
        "categories = df['category'].value_counts().index\n",
        "\n",
        "def groupper(grouplist,name):\n",
        "    for ele in categories:\n",
        "        if ele in grouplist:\n",
        "            df.loc[df['category'] == ele, 'category'] = name"
      ],
      "execution_count": null,
      "outputs": []
    },
    {
      "cell_type": "code",
      "metadata": {
        "id": "asgw2WvOZN-I"
      },
      "source": [
        "groupper( grouplist= ['BUSINESS' ,  'MONEY'] , name =  'FINANCE')\n",
        "\n",
        "groupper( grouplist= ['THE WORLDPOST' , 'WORLDPOST' , 'WORLD NEWS'] , name =  'WORLDNEWS')\n",
        "\n",
        "groupper( grouplist= ['ENVIRONMENT' ,'GREEN'] , name =  'ENVIRONMENT')\n",
        "\n",
        "groupper( grouplist= ['TECH', 'SCIENCE'] , name =  'TECHNOLOGY')\n",
        "\n",
        "groupper( grouplist= ['WELLNESS', 'HEALTHY LIVING'] , name =  'HEALTH')\n",
        "\n",
        "groupper( grouplist= [ 'PARENTING', 'PARENTS'] , name =  'PARENTING')\n",
        "\n",
        "groupper( grouplist= [ 'EDUCATION' ,'COLLEGE'] , name =  'EDUCATION')\n",
        "\n",
        "groupper( grouplist= ['FOOD & DRINK', 'TASTE'] , name =  'FOOD')\n",
        "\n",
        "groupper( grouplist= ['STYLE & BEAUTY' ,'STYLE'] , name =  'STYLE')\n",
        "\n",
        "groupper( grouplist= ['ARTS & CULTURE','CULTURE & ARTS','ARTS'] , name =  'ART-CULTURE')\n",
        "\n",
        "groupper( grouplist= ['WOMEN','QUEER VOICES', 'LATINO VOICES', 'BLACK VOICES'] , name =  'EMPOWERED VOICES')\n",
        "\n",
        "groupper( grouplist= ['HOME & LIVING','TRAVEL'] , name =  'TRAVEL AND LIVING')\n",
        "\n",
        "groupper( grouplist= ['WEDDINGS', 'DIVORCE'] , name =  'MARRIAGE')\n",
        "\n",
        "groupper( grouplist= ['SPORTS','ENTERTAINMENT' , 'COMEDY','WEIRD NEWS'] , name =  'SPORTS AND ENTERTAINMENT')\n",
        "\n",
        "groupper( grouplist= ['FIFTY' , 'IMPACT' ,'GOOD NEWS','MEDIA'] , name =  'GENERAL')\n",
        "\n",
        "groupper( grouplist= ['CRIME',  'RELIGION'] , name =  'CRIME AND RELIGION')"
      ],
      "execution_count": null,
      "outputs": []
    },
    {
      "cell_type": "code",
      "metadata": {
        "id": "gNbc1vR5ZN-J"
      },
      "source": [
        "groupper( grouplist= ['BUSINESS' ,  'MONEY'] , name =  'FINANCE')\n",
        "\n",
        "groupper( grouplist= ['THE WORLDPOST' , 'WORLDPOST' , 'WORLD NEWS'] , name =  'WORLDNEWS')\n",
        "\n",
        "groupper( grouplist= ['ENVIRONMENT' ,'GREEN'] , name =  'ENVIRONMENT')\n",
        "\n",
        "groupper( grouplist= ['TECH', 'SCIENCE'] , name =  'TECHNOLOGY')\n",
        "\n",
        "groupper( grouplist= ['WELLNESS', 'HEALTHY LIVING'] , name =  'HEALTH')\n",
        "\n",
        "groupper( grouplist= [ 'PARENTING', 'PARENTS'] , name =  'PARENTING')\n",
        "\n",
        "groupper( grouplist= [ 'EDUCATION' ,'COLLEGE'] , name =  'EDUCATION')\n",
        "\n",
        "groupper( grouplist= ['FOOD & DRINK', 'TASTE'] , name =  'FOOD')\n",
        "\n",
        "groupper( grouplist= ['STYLE & BEAUTY' ,'STYLE'] , name =  'STYLE')\n",
        "\n",
        "groupper( grouplist= ['ARTS & CULTURE','CULTURE & ARTS','ARTS'] , name =  'ART-CULTURE')\n",
        "\n",
        "groupper( grouplist= ['WOMEN','QUEER VOICES', 'LATINO VOICES', 'BLACK VOICES'] , name =  'EMPOWERED VOICES')\n",
        "\n",
        "groupper( grouplist= ['HOME & LIVING','TRAVEL'] , name =  'TRAVEL AND LIVING')\n",
        "\n",
        "groupper( grouplist= ['WEDDINGS', 'DIVORCE'] , name =  'MARRIAGE')\n",
        "\n",
        "groupper( grouplist= ['SPORTS','ENTERTAINMENT' , 'COMEDY','WEIRD NEWS'] , name =  'SPORTS AND ENTERTAINMENT')\n",
        "\n",
        "groupper( grouplist= ['FIFTY' , 'IMPACT' ,'GOOD NEWS','MEDIA'] , name =  'GENERAL')\n",
        "\n",
        "groupper( grouplist= ['CRIME',  'RELIGION'] , name =  'CRIME AND RELIGION')"
      ],
      "execution_count": null,
      "outputs": []
    },
    {
      "cell_type": "markdown",
      "metadata": {
        "id": "P3P-jPACawOB"
      },
      "source": [
        "Now let us analyse the value count for these new categories."
      ]
    },
    {
      "cell_type": "code",
      "metadata": {
        "id": "kO9MjxJfZN-K",
        "outputId": "dec3eea1-5404-4e6d-9f12-f334dc8306d4"
      },
      "source": [
        "print(\"We have a total of {} categories\".format(df['category'].nunique()))\n",
        "df['category'].value_counts()"
      ],
      "execution_count": null,
      "outputs": [
        {
          "output_type": "stream",
          "text": [
            "We have a total of 17 categories\n"
          ],
          "name": "stdout"
        },
        {
          "output_type": "execute_result",
          "data": {
            "text/plain": [
              "POLITICS                    32739\n",
              "SPORTS AND ENTERTAINMENT    28787\n",
              "HEALTH                      24521\n",
              "EMPOWERED VOICES            15461\n",
              "TRAVEL AND LIVING           14082\n",
              "PARENTING                   12632\n",
              "STYLE                       11903\n",
              "GENERAL                      9073\n",
              "WORLDNEWS                    8420\n",
              "FOOD                         8322\n",
              "FINANCE                      7644\n",
              "MARRIAGE                     7077\n",
              "CRIME AND RELIGION           5961\n",
              "TECHNOLOGY                   4260\n",
              "ENVIRONMENT                  3945\n",
              "ART-CULTURE                  3878\n",
              "EDUCATION                    2148\n",
              "Name: category, dtype: int64"
            ]
          },
          "metadata": {
            "tags": []
          },
          "execution_count": 12
        }
      ]
    },
    {
      "cell_type": "markdown",
      "metadata": {
        "id": "U6ErTsM6a7nF"
      },
      "source": [
        "We will visualise the share of every category in the dataset for which we are using the matplotlib library."
      ]
    },
    {
      "cell_type": "code",
      "metadata": {
        "id": "C6LlUDARZN-O",
        "outputId": "057fe0f7-602a-4a1d-bf62-e86baf881e69"
      },
      "source": [
        "import matplotlib.pyplot as plt\n",
        "fig = plt.figure(figsize=(10,20))\n",
        "plt.pie(df['category'].value_counts().values, \n",
        "        labels=df['category'].value_counts().index,\n",
        "        autopct='%1.1f%%')"
      ],
      "execution_count": null,
      "outputs": [
        {
          "output_type": "execute_result",
          "data": {
            "text/plain": [
              "([<matplotlib.patches.Wedge at 0x1e6a7237548>,\n",
              "  <matplotlib.patches.Wedge at 0x1e6a723a848>,\n",
              "  <matplotlib.patches.Wedge at 0x1e6a723a888>,\n",
              "  <matplotlib.patches.Wedge at 0x1e6a723e588>,\n",
              "  <matplotlib.patches.Wedge at 0x1e6a72403c8>,\n",
              "  <matplotlib.patches.Wedge at 0x1e6a7245d88>,\n",
              "  <matplotlib.patches.Wedge at 0x1e6a7245608>,\n",
              "  <matplotlib.patches.Wedge at 0x1e6a7248188>,\n",
              "  <matplotlib.patches.Wedge at 0x1e6a7240848>,\n",
              "  <matplotlib.patches.Wedge at 0x1e6a7240fc8>,\n",
              "  <matplotlib.patches.Wedge at 0x1e6a721f1c8>,\n",
              "  <matplotlib.patches.Wedge at 0x1e6a724de48>,\n",
              "  <matplotlib.patches.Wedge at 0x1e6a724f908>,\n",
              "  <matplotlib.patches.Wedge at 0x1e6a7252288>,\n",
              "  <matplotlib.patches.Wedge at 0x1e6a7254e08>,\n",
              "  <matplotlib.patches.Wedge at 0x1e6a7254a48>,\n",
              "  <matplotlib.patches.Wedge at 0x1e6a72597c8>],\n",
              " [Text(0.9589004709686384, 0.5389896907883523, 'POLITICS'),\n",
              "  Text(0.10584691037563594, 1.0948956258767009, 'SPORTS AND ENTERTAINMENT'),\n",
              "  Text(-0.7396268847088973, 0.8142186877097651, 'HEALTH'),\n",
              "  Text(-1.07629105927444, 0.2271509536099387, 'EMPOWERED VOICES'),\n",
              "  Text(-1.0646810854595496, -0.2765035013606075, 'TRAVEL AND LIVING'),\n",
              "  Text(-0.860882094769147, -0.6847496030709952, 'PARENTING'),\n",
              "  Text(-0.5418894053350017, -0.9572647869767688, 'STYLE'),\n",
              "  Text(-0.2045190733356874, -1.0808200352704016, 'GENERAL'),\n",
              "  Text(0.09513856405686742, -1.0958780286278202, 'WORLDNEWS'),\n",
              "  Text(0.37559962553238607, -1.0338882537779077, 'FOOD'),\n",
              "  Text(0.6194641947897217, -0.9089907102790006, 'FINANCE'),\n",
              "  Text(0.8105704895940025, -0.7436232119826137, 'MARRIAGE'),\n",
              "  Text(0.9443725765948673, -0.5640571217310989, 'CRIME AND RELIGION'),\n",
              "  Text(1.0221217972652483, -0.4065304804750301, 'TECHNOLOGY'),\n",
              "  Text(1.0657456356209665, -0.2723715112761659, 'ENVIRONMENT'),\n",
              "  Text(1.0910219202578186, -0.1402539465289383, 'ART-CULTURE'),\n",
              "  Text(1.0993792256234705, -0.03695021336255816, 'EDUCATION')],\n",
              " [Text(0.5230366205283481, 0.2939943767936467, '16.3%'),\n",
              "  Text(0.05773467838671051, 0.5972157959327459, '14.3%'),\n",
              "  Text(-0.403432846204853, 0.44411928420532637, '12.2%'),\n",
              "  Text(-0.5870678505133308, 0.12390052015087565, '7.7%'),\n",
              "  Text(-0.5807351375233906, -0.15082009165124044, '7.0%'),\n",
              "  Text(-0.46957205169226196, -0.37349978349327007, '6.3%'),\n",
              "  Text(-0.29557603927363724, -0.5221444292600557, '5.9%'),\n",
              "  Text(-0.1115558581831022, -0.5895382010565826, '4.5%'),\n",
              "  Text(0.05189376221283677, -0.597751651978811, '4.2%'),\n",
              "  Text(0.2048725230176651, -0.5639390475152224, '4.1%'),\n",
              "  Text(0.3378895607943936, -0.4958131146976366, '3.8%'),\n",
              "  Text(0.44212935796036495, -0.40561266108142563, '3.5%'),\n",
              "  Text(0.5151123145062911, -0.3076675209442357, '3.0%'),\n",
              "  Text(0.557520980326499, -0.22174389844092549, '2.1%'),\n",
              "  Text(0.5813158012477998, -0.14856627887790863, '2.0%'),\n",
              "  Text(0.5951028655951738, -0.07650215265214814, '1.9%'),\n",
              "  Text(0.5996613957946202, -0.020154661834122633, '1.1%')])"
            ]
          },
          "metadata": {
            "tags": []
          },
          "execution_count": 10
        },
        {
          "output_type": "display_data",
          "data": {
            "image/png": "[encoded data removed]",
            "text/plain": [
              "<Figure size 720x1440 with 1 Axes>"
            ]
          },
          "metadata": {
            "tags": []
          }
        }
      ]
    },
    {
      "cell_type": "markdown",
      "metadata": {
        "id": "OAt9JdunbIMi"
      },
      "source": [
        "As we can see that we are dealing with an imbalanced dataset since the four most well represented categories \"Politics\", \"Sports and Entertainment\", \"Health\" and \"Empowered Voices\" make up 50 percent of all the data samples. So we need to balance our dataset so as to not result in bias decisions. In order to have dataset balanced we are taking equal number of rows for every category. "
      ]
    },
    {
      "cell_type": "code",
      "metadata": {
        "id": "t-K3Ov0YZN-T"
      },
      "source": [
        "#removing duplicates to avoid inconsistency."
      ],
      "execution_count": null,
      "outputs": []
    },
    {
      "cell_type": "code",
      "metadata": {
        "id": "A8eyo8tZZN-U",
        "outputId": "2e207575-88a3-47ba-d00d-a7a8a77cde5d"
      },
      "source": [
        "df.duplicated().sum() "
      ],
      "execution_count": null,
      "outputs": [
        {
          "output_type": "execute_result",
          "data": {
            "text/plain": [
              "13"
            ]
          },
          "metadata": {
            "tags": []
          },
          "execution_count": 6
        }
      ]
    },
    {
      "cell_type": "code",
      "metadata": {
        "id": "q9y1nUt9ZN-U"
      },
      "source": [
        "df.drop_duplicates(keep='last', inplace=True) "
      ],
      "execution_count": null,
      "outputs": []
    },
    {
      "cell_type": "code",
      "metadata": {
        "id": "QBxjF1IHZN-V",
        "outputId": "93875c5b-d954-4a14-adbb-f050b41ad7e5"
      },
      "source": [
        "df.duplicated().sum() "
      ],
      "execution_count": null,
      "outputs": [
        {
          "output_type": "execute_result",
          "data": {
            "text/plain": [
              "0"
            ]
          },
          "metadata": {
            "tags": []
          },
          "execution_count": 8
        }
      ]
    },
    {
      "cell_type": "code",
      "metadata": {
        "id": "SC_IackLZN-V",
        "outputId": "b8d4bba8-d76f-4dac-8597-1a35cae2458e"
      },
      "source": [
        "df.duplicated(subset=['short_description','headline']).sum()"
      ],
      "execution_count": null,
      "outputs": [
        {
          "output_type": "execute_result",
          "data": {
            "text/plain": [
              "475"
            ]
          },
          "metadata": {
            "tags": []
          },
          "execution_count": 9
        }
      ]
    },
    {
      "cell_type": "code",
      "metadata": {
        "id": "5kj984RFZN-W"
      },
      "source": [
        "df.drop_duplicates(subset=['short_description','headline'],keep='last',inplace=True)"
      ],
      "execution_count": null,
      "outputs": []
    },
    {
      "cell_type": "code",
      "metadata": {
        "id": "jbLADBp_ZN-W",
        "outputId": "80ecafca-b76b-46b8-fd08-cbb211f10bf4"
      },
      "source": [
        "df.duplicated(subset=['short_description','headline']).sum()"
      ],
      "execution_count": null,
      "outputs": [
        {
          "output_type": "execute_result",
          "data": {
            "text/plain": [
              "0"
            ]
          },
          "metadata": {
            "tags": []
          },
          "execution_count": 11
        }
      ]
    },
    {
      "cell_type": "code",
      "metadata": {
        "id": "afnWYqBEZN-Y"
      },
      "source": [
        "############ to get equal no of rows for all types of categories #########################"
      ],
      "execution_count": null,
      "outputs": []
    },
    {
      "cell_type": "code",
      "metadata": {
        "id": "nFyukf0LZN-Y",
        "outputId": "44fb49c1-f711-4164-b203-73a62c795cfa"
      },
      "source": [
        "# since we have imbalanced dataset, so one way is we can take sab categories mei se equal number of rows making it balanced.\n",
        "# taken from https://www.kaggle.com/imdevskp/news-category-classification\n",
        "# container for dfs\n",
        "dfs = []\n",
        "\n",
        "# loop through each category and get 1004 rows and append to dfs\n",
        "for category in df['category'].unique():\n",
        "    temp = df[df['category']==category]\n",
        "    dfs.append(temp.sample(2140)) #2140 is the minimum number available for each category\n",
        "    \n",
        "# concatenate dataframes\n",
        "df = pd.concat(dfs)\n",
        "\n",
        "# shuffle dataframe\n",
        "df = df.sample(frac=1).reset_index(drop=True)\n",
        "\n",
        "# first few rows\n",
        "df.head()"
      ],
      "execution_count": null,
      "outputs": [
        {
          "output_type": "execute_result",
          "data": {
            "text/html": [
              "<div>\n",
              "<style scoped>\n",
              "    .dataframe tbody tr th:only-of-type {\n",
              "        vertical-align: middle;\n",
              "    }\n",
              "\n",
              "    .dataframe tbody tr th {\n",
              "        vertical-align: top;\n",
              "    }\n",
              "\n",
              "    .dataframe thead th {\n",
              "        text-align: right;\n",
              "    }\n",
              "</style>\n",
              "<table border=\"1\" class=\"dataframe\">\n",
              "  <thead>\n",
              "    <tr style=\"text-align: right;\">\n",
              "      <th></th>\n",
              "      <th>category</th>\n",
              "      <th>headline</th>\n",
              "      <th>authors</th>\n",
              "      <th>link</th>\n",
              "      <th>short_description</th>\n",
              "      <th>date</th>\n",
              "      <th>categoryEncoded</th>\n",
              "    </tr>\n",
              "  </thead>\n",
              "  <tbody>\n",
              "    <tr>\n",
              "      <th>0</th>\n",
              "      <td>HEALTH</td>\n",
              "      <td>Vindication for Lazy Parents (Like Me)</td>\n",
              "      <td>Maria Rodale, Contributor\\nCEO and Chairman of...</td>\n",
              "      <td>https://www.huffingtonpost.com/entry/vindicati...</td>\n",
              "      <td>Kids need to learn how to fail, take responsib...</td>\n",
              "      <td>2014-04-07</td>\n",
              "      <td>8</td>\n",
              "    </tr>\n",
              "    <tr>\n",
              "      <th>1</th>\n",
              "      <td>HEALTH</td>\n",
              "      <td>4 Foods to Soothe Sore Muscles</td>\n",
              "      <td>EatingWell, Contributor\\nWhere Good Taste Meet...</td>\n",
              "      <td>https://www.huffingtonpost.com/entry/exercise-...</td>\n",
              "      <td>Making sure your workout is challenging withou...</td>\n",
              "      <td>2012-01-29</td>\n",
              "      <td>8</td>\n",
              "    </tr>\n",
              "    <tr>\n",
              "      <th>2</th>\n",
              "      <td>FINANCE</td>\n",
              "      <td>Coca-Cola's Latest Environmental Victory Is Mo...</td>\n",
              "      <td>Emily Peck</td>\n",
              "      <td>https://www.huffingtonpost.com/entry/coca-cola...</td>\n",
              "      <td>The company is replenishing the water it used ...</td>\n",
              "      <td>2015-08-25</td>\n",
              "      <td>5</td>\n",
              "    </tr>\n",
              "    <tr>\n",
              "      <th>3</th>\n",
              "      <td>EMPOWERED VOICES</td>\n",
              "      <td>Black Twitter Users Say No To Trump And Yes To...</td>\n",
              "      <td>Zahara Hill</td>\n",
              "      <td>https://www.huffingtonpost.com/entry/black-twi...</td>\n",
              "      <td>Some users wanted no parts of Trump's inaugura...</td>\n",
              "      <td>2017-01-20</td>\n",
              "      <td>3</td>\n",
              "    </tr>\n",
              "    <tr>\n",
              "      <th>4</th>\n",
              "      <td>WORLDNEWS</td>\n",
              "      <td>From Brothers To Enemies: How Syria’s War Has ...</td>\n",
              "      <td>Ahmad Zaza, Syria Deeply</td>\n",
              "      <td>https://www.huffingtonpost.com/entry/syria-war...</td>\n",
              "      <td>A portrait of how Syria’s war has carved homes...</td>\n",
              "      <td>2017-01-18</td>\n",
              "      <td>16</td>\n",
              "    </tr>\n",
              "  </tbody>\n",
              "</table>\n",
              "</div>"
            ],
            "text/plain": [
              "           category                                           headline  \\\n",
              "0            HEALTH             Vindication for Lazy Parents (Like Me)   \n",
              "1            HEALTH                     4 Foods to Soothe Sore Muscles   \n",
              "2           FINANCE  Coca-Cola's Latest Environmental Victory Is Mo...   \n",
              "3  EMPOWERED VOICES  Black Twitter Users Say No To Trump And Yes To...   \n",
              "4         WORLDNEWS  From Brothers To Enemies: How Syria’s War Has ...   \n",
              "\n",
              "                                             authors  \\\n",
              "0  Maria Rodale, Contributor\\nCEO and Chairman of...   \n",
              "1  EatingWell, Contributor\\nWhere Good Taste Meet...   \n",
              "2                                         Emily Peck   \n",
              "3                                        Zahara Hill   \n",
              "4                           Ahmad Zaza, Syria Deeply   \n",
              "\n",
              "                                                link  \\\n",
              "0  https://www.huffingtonpost.com/entry/vindicati...   \n",
              "1  https://www.huffingtonpost.com/entry/exercise-...   \n",
              "2  https://www.huffingtonpost.com/entry/coca-cola...   \n",
              "3  https://www.huffingtonpost.com/entry/black-twi...   \n",
              "4  https://www.huffingtonpost.com/entry/syria-war...   \n",
              "\n",
              "                                   short_description       date  \\\n",
              "0  Kids need to learn how to fail, take responsib... 2014-04-07   \n",
              "1  Making sure your workout is challenging withou... 2012-01-29   \n",
              "2  The company is replenishing the water it used ... 2015-08-25   \n",
              "3  Some users wanted no parts of Trump's inaugura... 2017-01-20   \n",
              "4  A portrait of how Syria’s war has carved homes... 2017-01-18   \n",
              "\n",
              "   categoryEncoded  \n",
              "0                8  \n",
              "1                8  \n",
              "2                5  \n",
              "3                3  \n",
              "4               16  "
            ]
          },
          "metadata": {
            "tags": []
          },
          "execution_count": 13
        }
      ]
    },
    {
      "cell_type": "markdown",
      "metadata": {
        "id": "HrOTmo7db0Ww"
      },
      "source": [
        "After performing above code, we will visualise the share of every category in the dataset for which we are using the matplotlib library."
      ]
    },
    {
      "cell_type": "code",
      "metadata": {
        "id": "veh5fm-5ZN-Z",
        "outputId": "02a42794-d0a1-48e1-d76a-ce136ddb5e12"
      },
      "source": [
        "# let us visualise the pie chart for every category after we did the above code\n",
        "#import matplotlib.pyplot as plt\n",
        "fig = plt.figure(figsize=(10,20))\n",
        "plt.pie(df['category'].value_counts().values, \n",
        "        labels=df['category'].value_counts().index,\n",
        "        autopct='%1.1f%%')"
      ],
      "execution_count": null,
      "outputs": [
        {
          "output_type": "execute_result",
          "data": {
            "text/plain": [
              "([<matplotlib.patches.Wedge at 0x20193fd7ac8>,\n",
              "  <matplotlib.patches.Wedge at 0x20193fdc308>,\n",
              "  <matplotlib.patches.Wedge at 0x20193fdef88>,\n",
              "  <matplotlib.patches.Wedge at 0x20193fde9c8>,\n",
              "  <matplotlib.patches.Wedge at 0x20193fe17c8>,\n",
              "  <matplotlib.patches.Wedge at 0x20193fe3548>,\n",
              "  <matplotlib.patches.Wedge at 0x20193fe3e48>,\n",
              "  <matplotlib.patches.Wedge at 0x20193fe6948>,\n",
              "  <matplotlib.patches.Wedge at 0x20193fe1448>,\n",
              "  <matplotlib.patches.Wedge at 0x20193fe3188>,\n",
              "  <matplotlib.patches.Wedge at 0x20193fc8048>,\n",
              "  <matplotlib.patches.Wedge at 0x20193fee0c8>,\n",
              "  <matplotlib.patches.Wedge at 0x20193ff2608>,\n",
              "  <matplotlib.patches.Wedge at 0x20193ff27c8>,\n",
              "  <matplotlib.patches.Wedge at 0x20193ff4508>,\n",
              "  <matplotlib.patches.Wedge at 0x20193ff8708>,\n",
              "  <matplotlib.patches.Wedge at 0x20193ff8bc8>],\n",
              " [Text(1.0812704095131431, 0.20212447034260855, 'PARENTING'),\n",
              "  Text(0.9352388481066135, 0.5790753810966367, 'POLITICS'),\n",
              "  Text(0.6628980969955887, 0.8778189522900649, 'EMPOWERED VOICES'),\n",
              "  Text(0.3010292839807241, 1.0580082089407683, 'ART-CULTURE'),\n",
              "  Text(-0.10149520219603578, 1.0953075932956853, 'TECHNOLOGY'),\n",
              "  Text(-0.49031219881092686, 0.9846796167775559, 'FINANCE'),\n",
              "  Text(-0.8129098155749743, 0.741065200735982, 'HEALTH'),\n",
              "  Text(-1.025719456448182, 0.39736582221379624, 'EDUCATION'),\n",
              "  Text(-1.0999999999999999, -1.2873678832584484e-08, 'SPORTS AND ENTERTAINMENT'),\n",
              "  Text(-1.0257194471471633, -0.39736584622249266, 'WORLDNEWS'),\n",
              "  Text(-0.8129097982290913, -0.7410652197635093, 'FOOD'),\n",
              "  Text(-0.4903121757628369, -0.9846796282541409, 'STYLE'),\n",
              "  Text(-0.10149517655851131, -1.0953075956713516, 'TRAVEL AND LIVING'),\n",
              "  Text(0.3010293087451929, -1.0580082018946695, 'GENERAL'),\n",
              "  Text(0.6628981175424233, -0.8778189367738154, 'CRIME AND RELIGION'),\n",
              "  Text(0.9352388616608507, -0.5790753592057913, 'MARRIAGE'),\n",
              "  Text(1.0812704142442073, -0.2021244450336484, 'ENVIRONMENT')],\n",
              " [Text(0.5897838597344416, 0.1102497110959683, '5.9%'),\n",
              "  Text(0.5101302807854254, 0.3158592987799836, '5.9%'),\n",
              "  Text(0.3615807801794119, 0.4788103376127626, '5.9%'),\n",
              "  Text(0.16419779126221312, 0.5770953866949645, '5.9%'),\n",
              "  Text(-0.055361019379655874, 0.5974405054340101, '5.9%'),\n",
              "  Text(-0.2674430175332328, 0.5370979727877577, '5.9%'),\n",
              "  Text(-0.4434053539499859, 0.4042173822196265, '5.9%'),\n",
              "  Text(-0.5594833398808264, 0.21674499393479793, '5.9%'),\n",
              "  Text(-0.5999999999999999, -7.0220066359551726e-09, '5.9%'),\n",
              "  Text(-0.5594833348075436, -0.21674500703045052, '5.9%'),\n",
              "  Text(-0.4434053444885952, -0.4042173925982777, '5.9%'),\n",
              "  Text(-0.2674430049615474, -0.5370979790477132, '5.9%'),\n",
              "  Text(-0.05536100539555162, -0.5974405067298281, '5.9%'),\n",
              "  Text(0.1641978047701052, -0.5770953828516378, '5.9%'),\n",
              "  Text(0.3615807913867763, -0.4788103291493538, '5.9%'),\n",
              "  Text(0.5101302881786458, -0.3158592868395225, '5.9%'),\n",
              "  Text(0.5897838623150221, -0.11024969729108093, '5.9%')])"
            ]
          },
          "metadata": {
            "tags": []
          },
          "execution_count": 21
        },
        {
          "output_type": "display_data",
          "data": {
            "image/png": "[encoded data removed]",
            "text/plain": [
              "<Figure size 720x1440 with 1 Axes>"
            ]
          },
          "metadata": {
            "tags": []
          }
        }
      ]
    },
    {
      "cell_type": "markdown",
      "metadata": {
        "id": "ByWcv29Cb-s4"
      },
      "source": [
        "We can see that the above pie chart is balanced, so our dataset is balanced now."
      ]
    },
    {
      "cell_type": "code",
      "metadata": {
        "id": "oRc-CHi7ZN-a",
        "outputId": "a9b8ce84-b2e2-449a-81bf-e43e15392500"
      },
      "source": [
        "print(\"We have a total of {} categories\".format(df['category'].nunique()))\n",
        "df['category'].value_counts()"
      ],
      "execution_count": null,
      "outputs": [
        {
          "output_type": "stream",
          "text": [
            "We have a total of 17 categories\n"
          ],
          "name": "stdout"
        },
        {
          "output_type": "execute_result",
          "data": {
            "text/plain": [
              "HEALTH                      2140\n",
              "FOOD                        2140\n",
              "CRIME AND RELIGION          2140\n",
              "TRAVEL AND LIVING           2140\n",
              "FINANCE                     2140\n",
              "TECHNOLOGY                  2140\n",
              "GENERAL                     2140\n",
              "ENVIRONMENT                 2140\n",
              "MARRIAGE                    2140\n",
              "POLITICS                    2140\n",
              "WORLDNEWS                   2140\n",
              "EDUCATION                   2140\n",
              "STYLE                       2140\n",
              "ART-CULTURE                 2140\n",
              "PARENTING                   2140\n",
              "SPORTS AND ENTERTAINMENT    2140\n",
              "EMPOWERED VOICES            2140\n",
              "Name: category, dtype: int64"
            ]
          },
          "metadata": {
            "tags": []
          },
          "execution_count": 21
        }
      ]
    },
    {
      "cell_type": "markdown",
      "metadata": {
        "id": "S2cUdW-GcThL"
      },
      "source": [
        "Now we will find out the suitable value to be taken for maximum sequnce length to be chosen for padding and truncation which we can use for training our BERT model."
      ]
    },
    {
      "cell_type": "code",
      "metadata": {
        "id": "TTMUYPcvZN-q"
      },
      "source": [
        "#calculating the length of headlines and descriptions\n",
        "df['descr_len'] = df['short_description'].apply(lambda x: len(str(x).split()))\n",
        "df['headline_len'] = df['headline'].apply(lambda x: len(str(x).split()))"
      ],
      "execution_count": null,
      "outputs": []
    },
    {
      "cell_type": "code",
      "metadata": {
        "id": "z3d6U1NDZN-q",
        "outputId": "6511768a-717d-494d-a345-fcaf340947d9"
      },
      "source": [
        "df.describe() # max length for desc is 243 and for headline is 44"
      ],
      "execution_count": null,
      "outputs": [
        {
          "output_type": "execute_result",
          "data": {
            "text/html": [
              "<div>\n",
              "<style scoped>\n",
              "    .dataframe tbody tr th:only-of-type {\n",
              "        vertical-align: middle;\n",
              "    }\n",
              "\n",
              "    .dataframe tbody tr th {\n",
              "        vertical-align: top;\n",
              "    }\n",
              "\n",
              "    .dataframe thead th {\n",
              "        text-align: right;\n",
              "    }\n",
              "</style>\n",
              "<table border=\"1\" class=\"dataframe\">\n",
              "  <thead>\n",
              "    <tr style=\"text-align: right;\">\n",
              "      <th></th>\n",
              "      <th>descr_len</th>\n",
              "      <th>headline_len</th>\n",
              "    </tr>\n",
              "  </thead>\n",
              "  <tbody>\n",
              "    <tr>\n",
              "      <th>count</th>\n",
              "      <td>200365.000000</td>\n",
              "      <td>200365.000000</td>\n",
              "    </tr>\n",
              "    <tr>\n",
              "      <th>mean</th>\n",
              "      <td>11.762259</td>\n",
              "      <td>9.000145</td>\n",
              "    </tr>\n",
              "    <tr>\n",
              "      <th>std</th>\n",
              "      <td>8.090121</td>\n",
              "      <td>3.121708</td>\n",
              "    </tr>\n",
              "    <tr>\n",
              "      <th>min</th>\n",
              "      <td>0.000000</td>\n",
              "      <td>0.000000</td>\n",
              "    </tr>\n",
              "    <tr>\n",
              "      <th>25%</th>\n",
              "      <td>6.000000</td>\n",
              "      <td>7.000000</td>\n",
              "    </tr>\n",
              "    <tr>\n",
              "      <th>50%</th>\n",
              "      <td>12.000000</td>\n",
              "      <td>9.000000</td>\n",
              "    </tr>\n",
              "    <tr>\n",
              "      <th>75%</th>\n",
              "      <td>15.000000</td>\n",
              "      <td>11.000000</td>\n",
              "    </tr>\n",
              "    <tr>\n",
              "      <th>max</th>\n",
              "      <td>150.000000</td>\n",
              "      <td>42.000000</td>\n",
              "    </tr>\n",
              "  </tbody>\n",
              "</table>\n",
              "</div>"
            ],
            "text/plain": [
              "           descr_len   headline_len\n",
              "count  200365.000000  200365.000000\n",
              "mean       11.762259       9.000145\n",
              "std         8.090121       3.121708\n",
              "min         0.000000       0.000000\n",
              "25%         6.000000       7.000000\n",
              "50%        12.000000       9.000000\n",
              "75%        15.000000      11.000000\n",
              "max       150.000000      42.000000"
            ]
          },
          "metadata": {
            "tags": []
          },
          "execution_count": 27
        }
      ]
    },
    {
      "cell_type": "code",
      "metadata": {
        "id": "SeiM4_CaZN-r",
        "outputId": "407c386a-92b7-4fb5-f7d7-5c29d406923c"
      },
      "source": [
        "import seaborn as sns\n",
        "sns.distplot(df['descr_len'])\n",
        "plt.title('Description Number of Words')\n",
        "plt.show()\n",
        "# most of them have desc_length which describes the short_description have length of less than 50 and very few are above that"
      ],
      "execution_count": null,
      "outputs": [
        {
          "output_type": "display_data",
          "data": {
            "image/png": "[encoded data removed]",
            "text/plain": [
              "<Figure size 432x288 with 1 Axes>"
            ]
          },
          "metadata": {
            "tags": [],
            "needs_background": "light"
          }
        }
      ]
    },
    {
      "cell_type": "code",
      "metadata": {
        "id": "_zoGbBnOZN-s",
        "outputId": "526caf7a-ba5d-42c8-da9f-c7bfb460a94c"
      },
      "source": [
        "sns.distplot(df['headline_len'])\n",
        "plt.title('Headline Number of Words')\n",
        "plt.show()\n",
        "# most of them have headline length of less than 20 and very few above that"
      ],
      "execution_count": null,
      "outputs": [
        {
          "output_type": "display_data",
          "data": {
            "image/png": "[encoded data removed]",
            "text/plain": [
              "<Figure size 432x288 with 1 Axes>"
            ]
          },
          "metadata": {
            "tags": [],
            "needs_background": "light"
          }
        }
      ]
    },
    {
      "cell_type": "code",
      "metadata": {
        "id": "KhPbbnxOZN-s",
        "outputId": "cba30ec7-03ee-4d54-8542-9203dec1378c"
      },
      "source": [
        "#to check if some headlines are empty\n",
        "print(len(df[df['headline'] == \"\"])) # so there are 2 headlines which are empty\n",
        "# after preprocessing there were 9 headlines which were empty"
      ],
      "execution_count": null,
      "outputs": [
        {
          "output_type": "stream",
          "text": [
            "9\n"
          ],
          "name": "stdout"
        }
      ]
    },
    {
      "cell_type": "code",
      "metadata": {
        "id": "dpPPmVpfZN-t",
        "outputId": "def4a7dd-2a2f-459f-8158-37f764c32132"
      },
      "source": [
        "print(len(df[df['short_description'] == \"\"])) # so there are many(19611) where no description is provided "
      ],
      "execution_count": null,
      "outputs": [
        {
          "output_type": "stream",
          "text": [
            "19611\n"
          ],
          "name": "stdout"
        }
      ]
    },
    {
      "cell_type": "code",
      "metadata": {
        "id": "jVkf_xhQZN-u"
      },
      "source": [
        "#Since we will pass their concatenation input to BERT, lets merge them and obtain the length."
      ],
      "execution_count": null,
      "outputs": []
    },
    {
      "cell_type": "code",
      "metadata": {
        "id": "Z7bEKXcCZN-u",
        "outputId": "136a3fb6-e320-491a-9033-ca204ab67a54"
      },
      "source": [
        "df['desc'] = df['headline'].astype(str)+\"-\"+df['short_description']\n",
        "df.drop(columns =['headline','short_description'],axis = 1, inplace=True)\n",
        "df.astype(str)\n",
        "df.head()"
      ],
      "execution_count": null,
      "outputs": [
        {
          "output_type": "execute_result",
          "data": {
            "text/html": [
              "<div>\n",
              "<style scoped>\n",
              "    .dataframe tbody tr th:only-of-type {\n",
              "        vertical-align: middle;\n",
              "    }\n",
              "\n",
              "    .dataframe tbody tr th {\n",
              "        vertical-align: top;\n",
              "    }\n",
              "\n",
              "    .dataframe thead th {\n",
              "        text-align: right;\n",
              "    }\n",
              "</style>\n",
              "<table border=\"1\" class=\"dataframe\">\n",
              "  <thead>\n",
              "    <tr style=\"text-align: right;\">\n",
              "      <th></th>\n",
              "      <th>category</th>\n",
              "      <th>authors</th>\n",
              "      <th>link</th>\n",
              "      <th>date</th>\n",
              "      <th>categoryEncoded</th>\n",
              "      <th>desc</th>\n",
              "    </tr>\n",
              "  </thead>\n",
              "  <tbody>\n",
              "    <tr>\n",
              "      <th>0</th>\n",
              "      <td>HEALTH</td>\n",
              "      <td>Maria Rodale, Contributor\\nCEO and Chairman of...</td>\n",
              "      <td>https://www.huffingtonpost.com/entry/vindicati...</td>\n",
              "      <td>2014-04-07</td>\n",
              "      <td>8</td>\n",
              "      <td>Vindication for Lazy Parents (Like Me)-Kids ne...</td>\n",
              "    </tr>\n",
              "    <tr>\n",
              "      <th>1</th>\n",
              "      <td>HEALTH</td>\n",
              "      <td>EatingWell, Contributor\\nWhere Good Taste Meet...</td>\n",
              "      <td>https://www.huffingtonpost.com/entry/exercise-...</td>\n",
              "      <td>2012-01-29</td>\n",
              "      <td>8</td>\n",
              "      <td>4 Foods to Soothe Sore Muscles-Making sure you...</td>\n",
              "    </tr>\n",
              "    <tr>\n",
              "      <th>2</th>\n",
              "      <td>FINANCE</td>\n",
              "      <td>Emily Peck</td>\n",
              "      <td>https://www.huffingtonpost.com/entry/coca-cola...</td>\n",
              "      <td>2015-08-25</td>\n",
              "      <td>5</td>\n",
              "      <td>Coca-Cola's Latest Environmental Victory Is Mo...</td>\n",
              "    </tr>\n",
              "    <tr>\n",
              "      <th>3</th>\n",
              "      <td>EMPOWERED VOICES</td>\n",
              "      <td>Zahara Hill</td>\n",
              "      <td>https://www.huffingtonpost.com/entry/black-twi...</td>\n",
              "      <td>2017-01-20</td>\n",
              "      <td>3</td>\n",
              "      <td>Black Twitter Users Say No To Trump And Yes To...</td>\n",
              "    </tr>\n",
              "    <tr>\n",
              "      <th>4</th>\n",
              "      <td>WORLDNEWS</td>\n",
              "      <td>Ahmad Zaza, Syria Deeply</td>\n",
              "      <td>https://www.huffingtonpost.com/entry/syria-war...</td>\n",
              "      <td>2017-01-18</td>\n",
              "      <td>16</td>\n",
              "      <td>From Brothers To Enemies: How Syria’s War Has ...</td>\n",
              "    </tr>\n",
              "  </tbody>\n",
              "</table>\n",
              "</div>"
            ],
            "text/plain": [
              "           category                                            authors  \\\n",
              "0            HEALTH  Maria Rodale, Contributor\\nCEO and Chairman of...   \n",
              "1            HEALTH  EatingWell, Contributor\\nWhere Good Taste Meet...   \n",
              "2           FINANCE                                         Emily Peck   \n",
              "3  EMPOWERED VOICES                                        Zahara Hill   \n",
              "4         WORLDNEWS                           Ahmad Zaza, Syria Deeply   \n",
              "\n",
              "                                                link       date  \\\n",
              "0  https://www.huffingtonpost.com/entry/vindicati... 2014-04-07   \n",
              "1  https://www.huffingtonpost.com/entry/exercise-... 2012-01-29   \n",
              "2  https://www.huffingtonpost.com/entry/coca-cola... 2015-08-25   \n",
              "3  https://www.huffingtonpost.com/entry/black-twi... 2017-01-20   \n",
              "4  https://www.huffingtonpost.com/entry/syria-war... 2017-01-18   \n",
              "\n",
              "   categoryEncoded                                               desc  \n",
              "0                8  Vindication for Lazy Parents (Like Me)-Kids ne...  \n",
              "1                8  4 Foods to Soothe Sore Muscles-Making sure you...  \n",
              "2                5  Coca-Cola's Latest Environmental Victory Is Mo...  \n",
              "3                3  Black Twitter Users Say No To Trump And Yes To...  \n",
              "4               16  From Brothers To Enemies: How Syria’s War Has ...  "
            ]
          },
          "metadata": {
            "tags": []
          },
          "execution_count": 15
        }
      ]
    },
    {
      "cell_type": "code",
      "metadata": {
        "id": "5RmI3O6mZN-v",
        "outputId": "29c6be79-30eb-449e-d1c2-17d60d939ffa"
      },
      "source": [
        "column = df[\"describe\"]\n",
        "max_value = column.max()\n",
        "min_value = column.min()\n",
        "min_value\n",
        "max_value # maximum value is 244."
      ],
      "execution_count": null,
      "outputs": [
        {
          "output_type": "execute_result",
          "data": {
            "text/plain": [
              "244"
            ]
          },
          "metadata": {
            "tags": []
          },
          "execution_count": 31
        }
      ]
    },
    {
      "cell_type": "code",
      "metadata": {
        "id": "PGkePgrTZN-u",
        "outputId": "314fb111-0f3f-42bf-8f50-f03c97da73cc"
      },
      "source": [
        "df['describe'] = df['desc'].apply(lambda x: len(str(x).split()))\n",
        "sns.distplot(df['describe'])\n",
        "plt.title('Description Number of Words')\n",
        "plt.show()"
      ],
      "execution_count": null,
      "outputs": [
        {
          "output_type": "display_data",
          "data": {
            "image/png": "[encoded data removed]",
            "text/plain": [
              "<Figure size 432x288 with 1 Axes>"
            ]
          },
          "metadata": {
            "tags": [],
            "needs_background": "light"
          }
        }
      ]
    },
    {
      "cell_type": "markdown",
      "metadata": {
        "id": "Oyu_XbAGda-D"
      },
      "source": [
        "We can easily understand that most of the messages have length of 75 words or less whereas the maximum length is around 250. So if we choose 250 as the maximum sequence length then all our sentences will have length of 250 and in such scenario most of the tokens in these sequences will be the padding tokens, it will not contribute to help the model learn something useful. Apart from this it will also result in slow training time. Therefore, we will select 75 as the maximum sequence length since most of the sequences lie in that range."
      ]
    }
  ]
}